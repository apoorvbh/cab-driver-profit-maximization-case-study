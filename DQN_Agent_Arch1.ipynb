{
 "cells": [
  {
   "cell_type": "markdown",
   "metadata": {
    "colab_type": "text",
    "id": "Htkyd2vLid_G"
   },
   "source": [
    "# Cab-Driver Agent\n",
    "Cab drivers, like most people, are incentivised by a healthy growth in income. The goal of your project is to build an RL-based algorithm which can help cab drivers maximise their profits by improving their decision-making process on the field."
   ]
  },
  {
   "cell_type": "markdown",
   "metadata": {
    "colab_type": "text",
    "id": "jABe34D8jSwF"
   },
   "source": [
    "## Set-up"
   ]
  },
  {
   "cell_type": "markdown",
   "metadata": {
    "colab_type": "text",
    "id": "L6Sx0y1QjY0m"
   },
   "source": [
    "### Google Collab Set-up Code"
   ]
  },
  {
   "cell_type": "markdown",
   "metadata": {
    "colab_type": "text",
    "id": "tAhBzbZojDxf"
   },
   "source": [
    "#### Mounting Google Drive to Google Collab"
   ]
  },
  {
   "cell_type": "code",
   "execution_count": 1,
   "metadata": {
    "colab": {
     "base_uri": "https://localhost:8080/",
     "height": 125
    },
    "colab_type": "code",
    "executionInfo": {
     "elapsed": 34783,
     "status": "ok",
     "timestamp": 1588684562673,
     "user": {
      "displayName": "Apoorv Bhardwaj",
      "photoUrl": "https://lh3.googleusercontent.com/a-/AOh14GjYLrPUrGZItRK6R23BmZVTZY_tokQNxgr9E3E5=s64",
      "userId": "11838558921289780057"
     },
     "user_tz": -330
    },
    "id": "BzDbdklkjAqX",
    "outputId": "a5892bb7-0466-449c-d3d7-0ddd8f053170"
   },
   "outputs": [],
   "source": [
    "# from google.colab import drive\n",
    "# drive.mount('/content/drive/')"
   ]
  },
  {
   "cell_type": "markdown",
   "metadata": {
    "colab_type": "text",
    "id": "4wBdSUm_jkMv"
   },
   "source": [
    "#### Choosing Tensorflow 1.x version"
   ]
  },
  {
   "cell_type": "code",
   "execution_count": 2,
   "metadata": {
    "colab": {
     "base_uri": "https://localhost:8080/",
     "height": 35
    },
    "colab_type": "code",
    "executionInfo": {
     "elapsed": 34683,
     "status": "ok",
     "timestamp": 1588684562674,
     "user": {
      "displayName": "Apoorv Bhardwaj",
      "photoUrl": "https://lh3.googleusercontent.com/a-/AOh14GjYLrPUrGZItRK6R23BmZVTZY_tokQNxgr9E3E5=s64",
      "userId": "11838558921289780057"
     },
     "user_tz": -330
    },
    "id": "qKXnytOWjogD",
    "outputId": "be3ccb02-bcd8-4475-d5d8-d30b1ddfb860"
   },
   "outputs": [],
   "source": [
    "# %tensorflow_version 1.x"
   ]
  },
  {
   "cell_type": "markdown",
   "metadata": {
    "colab_type": "text",
    "id": "3-3l-8C-lqi3"
   },
   "source": [
    "#### Changing present working directory to project directory"
   ]
  },
  {
   "cell_type": "code",
   "execution_count": 3,
   "metadata": {
    "colab": {
     "base_uri": "https://localhost:8080/",
     "height": 35
    },
    "colab_type": "code",
    "executionInfo": {
     "elapsed": 34670,
     "status": "ok",
     "timestamp": 1588684562675,
     "user": {
      "displayName": "Apoorv Bhardwaj",
      "photoUrl": "https://lh3.googleusercontent.com/a-/AOh14GjYLrPUrGZItRK6R23BmZVTZY_tokQNxgr9E3E5=s64",
      "userId": "11838558921289780057"
     },
     "user_tz": -330
    },
    "id": "QPhSLkS0kaz9",
    "outputId": "25641c40-df35-4532-c0dc-35afcedb27a8"
   },
   "outputs": [],
   "source": [
    "# cd /content/drive/My Drive/Cab Driver Profit Maximization Case Study/"
   ]
  },
  {
   "cell_type": "markdown",
   "metadata": {
    "colab_type": "text",
    "id": "fIvG2tCfid_H"
   },
   "source": [
    "## Importing libraries"
   ]
  },
  {
   "cell_type": "code",
   "execution_count": 4,
   "metadata": {
    "colab": {
     "base_uri": "https://localhost:8080/",
     "height": 35
    },
    "colab_type": "code",
    "executionInfo": {
     "elapsed": 8637,
     "status": "ok",
     "timestamp": 1588684572928,
     "user": {
      "displayName": "Apoorv Bhardwaj",
      "photoUrl": "https://lh3.googleusercontent.com/a-/AOh14GjYLrPUrGZItRK6R23BmZVTZY_tokQNxgr9E3E5=s64",
      "userId": "11838558921289780057"
     },
     "user_tz": -330
    },
    "id": "6l0i1Smbid_I",
    "outputId": "57c21d81-c9d2-4d9d-a456-9d6eb3315179"
   },
   "outputs": [
    {
     "name": "stderr",
     "output_type": "stream",
     "text": [
      "Using TensorFlow backend.\n"
     ]
    }
   ],
   "source": [
    "# Importing libraries\n",
    "import numpy as np\n",
    "import os\n",
    "import random\n",
    "import math\n",
    "from collections import deque\n",
    "import collections\n",
    "import pickle\n",
    "import time\n",
    "import warnings\n",
    "\n",
    "# for building DQN model\n",
    "from keras import layers\n",
    "from keras import Sequential\n",
    "from keras.layers import Dense, Activation, Flatten\n",
    "from keras.optimizers import Adam\n",
    "from keras.models import load_model\n",
    "from keras.callbacks import Callback\n",
    "\n",
    "from collections import Counter\n",
    "\n",
    "# for plotting graphs\n",
    "import matplotlib.pyplot as plt\n",
    "\n",
    "# Import the environment\n",
    "from Env import CabDriver\n",
    "\n",
    "warnings.filterwarnings(\"ignore\")"
   ]
  },
  {
   "cell_type": "markdown",
   "metadata": {
    "colab_type": "text",
    "id": "_AVRkXbdid_L"
   },
   "source": [
    "## Defining Time Matrix"
   ]
  },
  {
   "cell_type": "code",
   "execution_count": 5,
   "metadata": {
    "colab": {},
    "colab_type": "code",
    "id": "UP5YYwtdid_M"
   },
   "outputs": [],
   "source": [
    "# Loading the time matrix provided\n",
    "Time_matrix = np.load(\"TM.npy\")"
   ]
  },
  {
   "cell_type": "markdown",
   "metadata": {
    "colab_type": "text",
    "id": "Lzn3ZVwCid_O"
   },
   "source": [
    "## Defining Functions"
   ]
  },
  {
   "cell_type": "markdown",
   "metadata": {
    "colab_type": "text",
    "id": "CyaN2VUoid_P"
   },
   "source": [
    "### For Common Utility"
   ]
  },
  {
   "cell_type": "code",
   "execution_count": 6,
   "metadata": {
    "colab": {},
    "colab_type": "code",
    "id": "IZ9rixL-id_P"
   },
   "outputs": [],
   "source": [
    "# Defining a function to save the obj as a pickle file\n",
    "def save_obj(obj, name ):\n",
    "    with open(name + '.pkl', 'wb') as f:\n",
    "        pickle.dump(obj, f, pickle.HIGHEST_PROTOCOL)\n",
    "\n",
    "def create_dir(dir_name):\n",
    "    # make dir to store model weights\n",
    "    if not os.path.exists(dir_name):\n",
    "        os.mkdir(dir_name) \n",
    "\n",
    "def read_obj(name):\n",
    "    with open('{}.pkl'.format(name), 'rb') as f:\n",
    "        obj = pickle.load(f)\n",
    "\n",
    "    return obj  "
   ]
  },
  {
   "cell_type": "markdown",
   "metadata": {
    "colab_type": "text",
    "id": "HBUeB28Lid_S"
   },
   "source": [
    "### To convert state array into a string to store it as keys in the dictionary"
   ]
  },
  {
   "cell_type": "code",
   "execution_count": 7,
   "metadata": {
    "colab": {},
    "colab_type": "code",
    "id": "prJzykiyid_S"
   },
   "outputs": [],
   "source": [
    "def Q_state(state):\n",
    "    return ('-'.join(str(e) for e in state))"
   ]
  },
  {
   "cell_type": "markdown",
   "metadata": {
    "colab_type": "text",
    "id": "ufgFFeLcid_U"
   },
   "source": [
    "### To add new Q-values to the Q-dictionary"
   ]
  },
  {
   "cell_type": "code",
   "execution_count": 8,
   "metadata": {
    "colab": {},
    "colab_type": "code",
    "id": "FQs94I8Rid_V"
   },
   "outputs": [],
   "source": [
    "# Defining a function which will add new Q-values to the Q-dictionary. \n",
    "def add_to_dict(state, actions):\n",
    "    state_key = Q_state(state)\n",
    "    \n",
    "    if state_key not in Q_dict.keys():\n",
    "        for action in actions:\n",
    "            Q_dict[state_key][action] = 0\n",
    "            States_track[state_key][action] = []"
   ]
  },
  {
   "cell_type": "markdown",
   "metadata": {
    "colab_type": "text",
    "id": "gWnZilGXid_X"
   },
   "source": [
    "### To populate Q-values to the Q-dictionary"
   ]
  },
  {
   "cell_type": "code",
   "execution_count": 9,
   "metadata": {
    "colab": {},
    "colab_type": "code",
    "id": "oVYJe2Ivid_Y"
   },
   "outputs": [],
   "source": [
    "# Defining a function which will add new Q-values to the Q-dictionary. \n",
    "def populate_dicts(state, action, action_predicted_q_value):\n",
    "    state_key = Q_state(state)\n",
    "    if state_key in Q_dict.keys():\n",
    "        Q_dict[state_key][action] = action_predicted_q_value\n",
    "        States_track[state_key][action].append(Q_dict[state_key][action])"
   ]
  },
  {
   "cell_type": "markdown",
   "metadata": {
    "colab_type": "text",
    "id": "FteQMzjgid_i"
   },
   "source": [
    "### To get common tracked state-action pairs"
   ]
  },
  {
   "cell_type": "code",
   "execution_count": 10,
   "metadata": {
    "colab": {},
    "colab_type": "code",
    "id": "By80BsS7id_i"
   },
   "outputs": [],
   "source": [
    "def get_common_state_action(tracked_states, most_common = True, common_count = 5):\n",
    "    state_action_pair = []\n",
    "    for state in tracked_states.keys():\n",
    "        for action, values in tracked_states[state].items():\n",
    "            values = list(filter(lambda x: x != 0, values))\n",
    "            if len(values) > 0:\n",
    "                state_action_pair.append((state, action, len(values)))\n",
    "            \n",
    "    most_common_state_action_pair = list(sorted(state_action_pair, key = lambda x: x[2], reverse = most_common))\n",
    "    most_common_state_action_pair = most_common_state_action_pair[:common_count]\n",
    "    return most_common_state_action_pair"
   ]
  },
  {
   "cell_type": "markdown",
   "metadata": {
    "colab_type": "text",
    "id": "Eo6pyiajid_e"
   },
   "source": [
    "### To populate common state-action pairs for checking convergence"
   ]
  },
  {
   "cell_type": "code",
   "execution_count": 11,
   "metadata": {
    "colab": {},
    "colab_type": "code",
    "id": "ZIUOfn1wid_e"
   },
   "outputs": [],
   "source": [
    "def populate_common_state_action_track(tracked_states, threshold = 1, most_common = True, common_count = 5):\n",
    "    common_states_track_dict = collections.defaultdict(dict)\n",
    "    common_state_action_pair = get_common_state_action(tracked_states, most_common, common_count)\n",
    "    \n",
    "    for state_action in common_state_action_pair:\n",
    "        state = state_action[0]\n",
    "        action = state_action[1]\n",
    "\n",
    "        if state not in common_states_track_dict.keys() or action not in common_states_track_dict[state]:\n",
    "            common_states_track_dict[state][action] = []\n",
    "        \n",
    "        for index, value in enumerate(tracked_states[state][action]):\n",
    "            if ((index + 1) % threshold) == 0:\n",
    "                common_states_track_dict[state][action].append(value)\n",
    "\n",
    "    return common_state_action_pair, common_states_track_dict"
   ]
  },
  {
   "cell_type": "markdown",
   "metadata": {
    "colab_type": "text",
    "id": "UjiDD_DzzlTN"
   },
   "source": [
    "### To initialise values"
   ]
  },
  {
   "cell_type": "code",
   "execution_count": 12,
   "metadata": {
    "colab": {},
    "colab_type": "code",
    "id": "xRQ0IHERx6-m"
   },
   "outputs": [],
   "source": [
    "def initialise_values(file_name, initialise_from_file = False):\n",
    "    obj = []\n",
    "    if initialise_from_file and os.path.exists(file_name + '.pkl'):\n",
    "        obj = read_obj(file_name)\n",
    "\n",
    "    return obj"
   ]
  },
  {
   "cell_type": "markdown",
   "metadata": {
    "colab_type": "text",
    "id": "RO151VmB3rrj"
   },
   "source": [
    "### To initialise dicts"
   ]
  },
  {
   "cell_type": "code",
   "execution_count": 13,
   "metadata": {
    "colab": {},
    "colab_type": "code",
    "id": "MOYdhSkb3pN6"
   },
   "outputs": [],
   "source": [
    "def initialise_dicts(file_name, initialise_from_file = False):\n",
    "    obj = collections.defaultdict(dict)\n",
    "    if initialise_from_file and os.path.exists(file_name + '.pkl'):\n",
    "        obj = read_obj(file_name)\n",
    "\n",
    "    return obj "
   ]
  },
  {
   "cell_type": "markdown",
   "metadata": {},
   "source": [
    "### To initialise model filename"
   ]
  },
  {
   "cell_type": "code",
   "execution_count": 14,
   "metadata": {},
   "outputs": [],
   "source": [
    "def initialise_model_filename(file_name, initialise_from_file = False):\n",
    "    model_file_name = None\n",
    "    if initialise_from_file and os.path.exists(file_name):\n",
    "        model_file_name = file_name\n",
    "\n",
    "    return model_file_name"
   ]
  },
  {
   "cell_type": "markdown",
   "metadata": {
    "colab_type": "text",
    "id": "y_OZSRWlIb03"
   },
   "source": [
    "## Defining loss callback"
   ]
  },
  {
   "cell_type": "code",
   "execution_count": 15,
   "metadata": {
    "colab": {},
    "colab_type": "code",
    "id": "_xbzynzIHruI"
   },
   "outputs": [],
   "source": [
    "class LossHistory(Callback):\n",
    "    def __init__(self, losses):\n",
    "        self.losses = losses\n",
    "        \n",
    "    def on_epoch_end(self, epoch, logs={}):\n",
    "        self.losses.append(logs.get('loss'))"
   ]
  },
  {
   "cell_type": "markdown",
   "metadata": {
    "colab_type": "text",
    "id": "Pxi6o2FSid_l"
   },
   "source": [
    "## Defining Agent Class\n",
    "\n",
    "If you are using this framework, you need to fill the following to complete the following code block:\n",
    "1. State and Action Size\n",
    "2. Hyperparameters\n",
    "3. Create a neural-network model in function 'build_model()'\n",
    "4. Define epsilon-greedy strategy in function 'get_action()'\n",
    "5. Complete the function 'append_sample()'. This function appends the recent experience tuple <state, action, reward, new-state> to the memory\n",
    "6. Complete the 'train_model()' function with following logic:\n",
    "   - If the memory size is greater than mini-batch size, you randomly sample experiences from memory as per the mini-batch size and do the following:\n",
    "      - Initialise your input and output batch for training the model\n",
    "      - Calculate the target Q value for each sample: reward + gamma*max(Q(s'a,))\n",
    "      - Get Q(s', a) values from the last trained model\n",
    "      - Update the input batch as your encoded state and output batch as your Q-values\n",
    "      - Then fit your DQN model using the updated input and output batch."
   ]
  },
  {
   "cell_type": "code",
   "execution_count": 16,
   "metadata": {
    "colab": {},
    "colab_type": "code",
    "id": "bFDrGv8Oid_l"
   },
   "outputs": [],
   "source": [
    "class DQNAgent:\n",
    "    def __init__(self, state_size, action_size, \n",
    "                 initial_epsilon = 1.0,\n",
    "                 epsilon_min = 0,\n",
    "                 epsilon_decay = 0.0009,\n",
    "                 action_counter = 0, \n",
    "                 debug = False, is_training = True, \n",
    "                 saved_model_path = None, loss_callback = LossHistory([])):\n",
    "        self.debug = debug\n",
    "        self.is_training = is_training\n",
    "        \n",
    "        # Define size of state and action\n",
    "        self.state_size = state_size\n",
    "        self.action_size = action_size\n",
    "\n",
    "        # Write here: Specify you hyper parameters for the DQN\n",
    "        self.discount_factor = 0.99\n",
    "        self.learning_rate = 0.001 \n",
    "        self.epsilon_max = 1.0\n",
    "        \n",
    "        self.epsilon_min = epsilon_min\n",
    "        self.epsilon_decay = epsilon_decay\n",
    "\n",
    "        self.action_counter = action_counter\n",
    "\n",
    "        self.loss_callback = loss_callback\n",
    "        \n",
    "        self.batch_size = 64   \n",
    "\n",
    "        # create replay memory using deque\n",
    "        # Approx. 20% of all experience that will be generated for 15k episodes\n",
    "        self.memory = deque(maxlen = 600000)\n",
    "        \n",
    "        if self.is_training:\n",
    "            self.epsilon = initial_epsilon\n",
    "        else:\n",
    "            self.epsilon = self.epsilon_min\n",
    "            \n",
    "        # create main model and target model\n",
    "        if saved_model_path:\n",
    "            print('Loading model from : {}'.format(saved_model_path))\n",
    "            self.model = load_model(saved_model_path, compile = False)\n",
    "            print('Model successfully loaded')\n",
    "        else:\n",
    "            self.model = self.build_model()\n",
    "\n",
    "\n",
    "    def update_epsilon(self):\n",
    "        if self.epsilon > self.epsilon_min:\n",
    "            self.epsilon = round(self.epsilon_min + \n",
    "                                 (self.epsilon_max - self.epsilon_min) * \n",
    "                                 np.exp(-1*self.epsilon_decay*self.action_counter), 3)\n",
    "        else:\n",
    "            self.epsilon = self.epsilon_min\n",
    "    \n",
    "\n",
    "    # approximate Q function using Neural Network\n",
    "    def build_model(self):\n",
    "        model = Sequential()\n",
    "        # Write your code here: Add layers to your neural nets\n",
    "        model.add(Dense(32, input_dim=self.state_size, activation='relu',\n",
    "                        kernel_initializer='he_uniform'))\n",
    "        model.add(Dense(32, activation='relu',\n",
    "                        kernel_initializer='he_uniform'))\n",
    "        model.add(Dense(self.action_size, activation='linear',\n",
    "                        kernel_initializer='he_uniform'))    \n",
    "        model.compile(loss='mse',optimizer=Adam(lr=self.learning_rate), metrics = ['mse'])\n",
    "        print(model.summary())\n",
    "        return model\n",
    "    \n",
    "\n",
    "    def get_action(self, state, possible_actions_index):\n",
    "    # Write your code here:\n",
    "    # get action from model using epsilon-greedy policy\n",
    "    # Decay in ε after we generate each sample from the environment  \n",
    "        self.action_counter += 1\n",
    "        \n",
    "        if self.debug:\n",
    "            print('\\nAction Counter : {}'.format(self.action_counter))\n",
    "            print('Epsilon value : {}'.format(self.epsilon))\n",
    "            print('Possible Actions Index : {}'.format(possible_actions_index))\n",
    "            \n",
    "        # the first index corresponds to the batch size, so\n",
    "        # reshape state to (1, state_size) so that the first index corresponds to the batch size\n",
    "        state = np.array(state).reshape(1, self.state_size)\n",
    "        q_values = self.model.predict(state)[0]\n",
    "        z = round(np.random.rand(), 3)\n",
    "\n",
    "        if self.debug:\n",
    "            print('z value : {}'.format(z))\n",
    "        \n",
    "        if z <= self.epsilon:\n",
    "            # explore: choose a random action from all possible actions\n",
    "            overall_possible_action_index = random.choice(possible_actions_index)\n",
    "            \n",
    "            if self.debug:\n",
    "                print('Exploration Overall Action Index : {}'.format(overall_possible_action_index))\n",
    "        else:\n",
    "            # choose the action with the highest q(s, a) within possible actions\n",
    "            possible_q_values = [q_values[action_index] for action_index in possible_actions_index]\n",
    "            selected_possible_action_index = np.argmax(possible_q_values)\n",
    "            overall_possible_action_index = possible_actions_index[selected_possible_action_index]\n",
    "\n",
    "            if self.debug:\n",
    "                print('Predicted Possible Q-values : {}'.format(possible_q_values))\n",
    "                print('Selected Possible Action Index : {}'.format(selected_possible_action_index))\n",
    "                print('Exploitation Overall Action Index : {}'.format(overall_possible_action_index))\n",
    "\n",
    "        selected_possible_action_q_value = q_values[overall_possible_action_index]\n",
    "\n",
    "        if self.debug:\n",
    "            print('Selected Possible Action Q Value : {}'.format(selected_possible_action_q_value))\n",
    "            \n",
    "        return overall_possible_action_index, selected_possible_action_q_value\n",
    "        \n",
    "        \n",
    "    def append_sample(self, state, action, reward, next_state, terminated):\n",
    "    # Write your code here:\n",
    "    # save sample <s,a,r,s'> to the replay memory\n",
    "        self.memory.append((state, action, reward, next_state, terminated))\n",
    "        self.update_epsilon()\n",
    "    \n",
    "    \n",
    "    # pick samples randomly from replay memory (with batch_size) and train the network\n",
    "    def train_model(self):\n",
    "        memory_size = len(self.memory)\n",
    "        \n",
    "        if self.debug:\n",
    "            print('\\nCurrent Memory Size : {}'.format(memory_size))\n",
    "            print('Batch Size : {}'.format(self.batch_size))\n",
    "            \n",
    "        \n",
    "        if  memory_size > self.batch_size:\n",
    "            # Sample batch from the memory\n",
    "            mini_batch = random.sample(self.memory, self.batch_size)\n",
    "            update_output = np.zeros((self.batch_size, self.state_size))\n",
    "            update_input = np.zeros((self.batch_size, self.state_size))\n",
    "            \n",
    "            actions, rewards, done = [], [], []\n",
    "            \n",
    "            for i in range(self.batch_size):\n",
    "                 # Write your code from here\n",
    "                state, action, reward, next_state, terminated = mini_batch[i]\n",
    "                update_input[i] = state\n",
    "                actions.append(action)\n",
    "                rewards.append(reward)\n",
    "                update_output[i] = next_state\n",
    "                done.append(terminated)\n",
    "\n",
    "             # 1. Predict the target from earlier model\n",
    "            target = self.model.predict(update_input)\n",
    "\n",
    "            # 2. Get the target for the Q-network\n",
    "            target_qval = self.model.predict(update_output)\n",
    "            \n",
    "            if self.debug:\n",
    "                print('Target Size : {}'.format(len(target)))\n",
    "                print('Target Q Value Size : {}'.format(len(target_qval)))\n",
    "\n",
    "            #3. Update your 'update_output' and 'update_input' batch\n",
    "            for i in range(self.batch_size):\n",
    "                if done[i]:\n",
    "                    target[i][actions[i]] = rewards[i]\n",
    "                else: # non-terminal state\n",
    "                    target[i][actions[i]] = rewards[i] + self.discount_factor * np.max(target_qval[i])\n",
    "\n",
    "            # 4. Fit your model and track the loss values\n",
    "            if self.debug:\n",
    "                print('Training model :')\n",
    "            self.model.fit(update_input, target, batch_size=self.batch_size, epochs=1, verbose=0, \n",
    "                           callbacks = [self.loss_callback])\n",
    "            if self.debug:\n",
    "                print('Model successfully updated :')\n",
    "            \n",
    "\n",
    "    def save(self, name):\n",
    "        self.model.save(name)"
   ]
  },
  {
   "cell_type": "markdown",
   "metadata": {
    "colab_type": "text",
    "id": "RcAFlWKPvnzY"
   },
   "source": [
    "## Defining input files"
   ]
  },
  {
   "cell_type": "code",
   "execution_count": 17,
   "metadata": {
    "colab": {},
    "colab_type": "code",
    "id": "3qYH36zcvnzc"
   },
   "outputs": [],
   "source": [
    "# Defining input dir\n",
    "input_dir = \"input\"\n",
    "\n",
    "# Defining initial file names used for initialising\n",
    "initial_states_tracked_filename = '{}/States_tracked'.format(input_dir)\n",
    "initial_policy_filename = '{}/Policy'.format(input_dir)\n",
    "initial_rewards_per_episode_filename = \"{}/rewards_per_episode\".format(input_dir)\n",
    "initial_trips_per_episode_filename = \"{}/trips_per_episode\".format(input_dir)\n",
    "initial_offline_actions_per_episode_filename = \"{}/offline_actions_per_episode\".format(input_dir)\n",
    "initial_epsilons_filename = \"{}/epsilons\".format(input_dir)\n",
    "initial_model_filename = \"./{}/model.h5\".format(input_dir)\n",
    "initial_training_loss_filename = \"{}/training_loss\".format(input_dir)"
   ]
  },
  {
   "cell_type": "markdown",
   "metadata": {
    "colab_type": "text",
    "id": "wEJmasoI5qCm"
   },
   "source": [
    "## Defining output files"
   ]
  },
  {
   "cell_type": "code",
   "execution_count": 18,
   "metadata": {
    "colab": {},
    "colab_type": "code",
    "id": "nMPczJnr52o_"
   },
   "outputs": [],
   "source": [
    "# Defining output dir\n",
    "output_dir = \"output\"\n",
    "\n",
    "# Defining final file names used for testing\n",
    "final_all_states_tracked_filename = '{}/States_tracked'.format(output_dir)\n",
    "final_most_common_states_tracked_filename = '{}/Most_common_states_tracked'.format(output_dir)\n",
    "final_policy_filename = '{}/Policy'.format(output_dir)\n",
    "final_rewards_per_episode_filename = \"{}/rewards_per_episode\".format(output_dir)\n",
    "final_trips_per_episode_filename = \"{}/trips_per_episode\".format(output_dir)\n",
    "final_offline_actions_per_episode_filename = \"{}/offline_actions_per_episode\".format(output_dir)\n",
    "final_epsilons_filename = \"{}/epsilons\".format(output_dir)\n",
    "final_model_filename = \"./{}/model.h5\".format(output_dir)\n",
    "final_training_loss_filename = \"./{}/training_loss\".format(output_dir)\n",
    "final_rewards_filename = '{}/rewards.png'.format(output_dir)\n",
    "final_trips_filename = '{}/trips.png'.format(output_dir)\n",
    "final_offline_actions_filename = '{}/offline_actions.png'.format(output_dir)\n",
    "final_loss_filename = '{}/loss.png'.format(output_dir)\n",
    "final_most_common_state_actions_filename = '{}/most_common_state_actions'.format(output_dir)"
   ]
  },
  {
   "cell_type": "markdown",
   "metadata": {
    "colab_type": "text",
    "id": "zJapCTRYid_o"
   },
   "source": [
    "## Defining parameters"
   ]
  },
  {
   "cell_type": "code",
   "execution_count": 0,
   "metadata": {
    "colab": {},
    "colab_type": "code",
    "id": "i_m_0XfKid_o"
   },
   "outputs": [],
   "source": [
    "total_available_hours = 24*30                 # for 30 days\n",
    "\n",
    "initial_episode = 0\n",
    "\n",
    "# total_episodes = 100\n",
    "# epsilon_decay = 0.0004\n",
    "\n",
    "total_episodes = 15000\n",
    "epsilon_decay = 0.000002\n",
    "\n",
    "debug = False\n",
    "\n",
    "# every these many episodes, the 4 Q-values will be stored/appended (convergence graphs)\n",
    "threshold = 1000"
   ]
  },
  {
   "cell_type": "markdown",
   "metadata": {
    "colab_type": "text",
    "id": "hrGFJkCQwTHR"
   },
   "source": [
    "## Initialising values"
   ]
  },
  {
   "cell_type": "code",
   "execution_count": 0,
   "metadata": {
    "colab": {
     "base_uri": "https://localhost:8080/",
     "height": 354
    },
    "colab_type": "code",
    "executionInfo": {
     "elapsed": 1073,
     "status": "ok",
     "timestamp": 1588653977684,
     "user": {
      "displayName": "Apoorv Bhardwaj",
      "photoUrl": "https://lh3.googleusercontent.com/a-/AOh14GjYLrPUrGZItRK6R23BmZVTZY_tokQNxgr9E3E5=s64",
      "userId": "11838558921289780057"
     },
     "user_tz": -330
    },
    "id": "oKRSBgMqwatw",
    "outputId": "0af3e211-1c7f-4efa-8ebc-8aa42b05cb00"
   },
   "outputs": [
    {
     "name": "stdout",
     "output_type": "stream",
     "text": [
      "WARNING:tensorflow:From /tensorflow-1.15.2/python3.6/tensorflow_core/python/ops/resource_variable_ops.py:1630: calling BaseResourceVariable.__init__ (from tensorflow.python.ops.resource_variable_ops) with constraint is deprecated and will be removed in a future version.\n",
      "Instructions for updating:\n",
      "If using Keras pass *_constraint arguments to layers.\n",
      "Model: \"sequential_1\"\n",
      "_________________________________________________________________\n",
      "Layer (type)                 Output Shape              Param #   \n",
      "=================================================================\n",
      "dense_1 (Dense)              (None, 32)                1184      \n",
      "_________________________________________________________________\n",
      "dense_2 (Dense)              (None, 32)                1056      \n",
      "_________________________________________________________________\n",
      "dense_3 (Dense)              (None, 21)                693       \n",
      "=================================================================\n",
      "Total params: 2,933\n",
      "Trainable params: 2,933\n",
      "Non-trainable params: 0\n",
      "_________________________________________________________________\n",
      "None\n"
     ]
    }
   ],
   "source": [
    "# Initialising dicts\n",
    "Q_dict = initialise_dicts(initial_policy_filename, False)\n",
    "States_track = initialise_dicts(initial_states_tracked_filename, False)\n",
    "\n",
    "# Initialising tracking values\n",
    "rewards_per_episode = initialise_values(initial_rewards_per_episode_filename, False)\n",
    "trips_per_episode = initialise_values(initial_trips_per_episode_filename, False)\n",
    "epsilons = initialise_values(initial_epsilons_filename, False)\n",
    "offline_actions_per_episode = initialise_values(initial_offline_actions_per_episode_filename, False)\n",
    "losses = initialise_values(initial_training_loss_filename, False)\n",
    "input_model_filename = initialise_model_filename(initial_model_filename, False)\n",
    "\n",
    "# Initialising epsilon\n",
    "initial_epsilon = epsilons[-1] if len(epsilons) > 0 else 1.0\n",
    "\n",
    "# Call the environment\n",
    "env = CabDriver(Time_matrix, debug = debug)\n",
    "    \n",
    "# Call all the initialised variables of the environment\n",
    "state_size = env.state_size\n",
    "action_size = len(env.action_space)\n",
    "\n",
    "# Initialising loss callback\n",
    "loss_callback = LossHistory(losses)\n",
    "\n",
    "# Call the DQN agent\n",
    "agent = DQNAgent(action_size = action_size, state_size = state_size, \n",
    "                 initial_epsilon = initial_epsilon,\n",
    "                 epsilon_decay = epsilon_decay, action_counter = len(epsilons), \n",
    "                 saved_model_path = input_model_filename,\n",
    "                 debug = debug, loss_callback = loss_callback)"
   ]
  },
  {
   "cell_type": "markdown",
   "metadata": {
    "colab_type": "text",
    "id": "hLv76fcQid_q"
   },
   "source": [
    "## DQN block (Training)"
   ]
  },
  {
   "cell_type": "code",
   "execution_count": 0,
   "metadata": {
    "colab": {
     "base_uri": "https://localhost:8080/",
     "height": 354
    },
    "colab_type": "code",
    "executionInfo": {
     "elapsed": 21382918,
     "status": "ok",
     "timestamp": 1588675364612,
     "user": {
      "displayName": "Apoorv Bhardwaj",
      "photoUrl": "https://lh3.googleusercontent.com/a-/AOh14GjYLrPUrGZItRK6R23BmZVTZY_tokQNxgr9E3E5=s64",
      "userId": "11838558921289780057"
     },
     "user_tz": -330
    },
    "id": "4HICKqg_id_q",
    "outputId": "5d32589b-edaf-4eed-c3ca-6d3b4a21de5c",
    "scrolled": false
   },
   "outputs": [
    {
     "name": "stdout",
     "output_type": "stream",
     "text": [
      "WARNING:tensorflow:From /usr/local/lib/python3.6/dist-packages/keras/backend/tensorflow_backend.py:422: The name tf.global_variables is deprecated. Please use tf.compat.v1.global_variables instead.\n",
      "\n",
      "Episodes processed : 1000, Current epsilon : 0.749, For last 1000 episodes - Avg. reward : -4.902, Avg. trips : 144.292, Avg. offline actions : 32.921, Elapsed Time : 823.0241100788116\n",
      "Episodes processed : 2000, Current epsilon : 0.546, For last 1000 episodes - Avg. reward : 306.47, Avg. trips : 158.083, Avg. offline actions : 38.255, Elapsed Time : 936.3611671924591\n",
      "Episodes processed : 3000, Current epsilon : 0.389, For last 1000 episodes - Avg. reward : 605.855, Avg. trips : 170.055, Avg. offline actions : 43.838, Elapsed Time : 1092.224385023117\n",
      "Episodes processed : 4000, Current epsilon : 0.271, For last 1000 episodes - Avg. reward : 887.105, Avg. trips : 180.541, Avg. offline actions : 49.306, Elapsed Time : 1348.0507247447968\n",
      "Episodes processed : 5000, Current epsilon : 0.186, For last 1000 episodes - Avg. reward : 1101.446, Avg. trips : 188.201, Avg. offline actions : 54.298, Elapsed Time : 1426.6602230072021\n",
      "Episodes processed : 6000, Current epsilon : 0.127, For last 1000 episodes - Avg. reward : 1309.585, Avg. trips : 191.362, Avg. offline actions : 55.32, Elapsed Time : 1563.7307860851288\n",
      "Episodes processed : 7000, Current epsilon : 0.086, For last 1000 episodes - Avg. reward : 1472.263, Avg. trips : 191.507, Avg. offline actions : 54.838, Elapsed Time : 1556.1964650154114\n",
      "Episodes processed : 8000, Current epsilon : 0.059, For last 1000 episodes - Avg. reward : 1614.872, Avg. trips : 191.313, Avg. offline actions : 53.104, Elapsed Time : 1519.8726606369019\n",
      "Episodes processed : 9000, Current epsilon : 0.04, For last 1000 episodes - Avg. reward : 1731.871, Avg. trips : 192.802, Avg. offline actions : 54.069, Elapsed Time : 1587.3132317066193\n",
      "Episodes processed : 10000, Current epsilon : 0.027, For last 1000 episodes - Avg. reward : 1816.772, Avg. trips : 190.352, Avg. offline actions : 51.265, Elapsed Time : 1523.2227306365967\n",
      "Episodes processed : 11000, Current epsilon : 0.019, For last 1000 episodes - Avg. reward : 1860.672, Avg. trips : 185.992, Avg. offline actions : 47.647, Elapsed Time : 1567.3544759750366\n",
      "Episodes processed : 12000, Current epsilon : 0.013, For last 1000 episodes - Avg. reward : 1881.619, Avg. trips : 184.908, Avg. offline actions : 46.927, Elapsed Time : 1526.0722048282623\n",
      "Episodes processed : 13000, Current epsilon : 0.009, For last 1000 episodes - Avg. reward : 1922.61, Avg. trips : 186.595, Avg. offline actions : 47.456, Elapsed Time : 1574.3173360824585\n",
      "Episodes processed : 14000, Current epsilon : 0.006, For last 1000 episodes - Avg. reward : 1942.791, Avg. trips : 185.687, Avg. offline actions : 46.968, Elapsed Time : 1633.115201473236\n",
      "Episodes processed : 15000, Current epsilon : 0.004, For last 1000 episodes - Avg. reward : 1935.261, Avg. trips : 182.333, Avg. offline actions : 44.736, Elapsed Time : 1648.748527288437\n",
      "Total Elapsed Time : 21381.270183086395\n"
     ]
    }
   ],
   "source": [
    "start_time = time.time()\n",
    "\n",
    "# Defining different dirs \n",
    "training_dir = \"training_{}\".format(start_time)\n",
    "tracking_dir = \"{}/tracking\".format(training_dir)\n",
    "saved_models_dir = \"{}/saved_models\".format(training_dir)\n",
    "\n",
    "# Defining different file names for tracking\n",
    "states_tracked_filename = '{}/States_tracked'.format(tracking_dir)\n",
    "policy_filename = '{}/Policy'.format(tracking_dir)\n",
    "rewards_per_episode_filename = \"{}/rewards_per_episode\".format(tracking_dir)\n",
    "trips_per_episode_filename = \"{}/trips_per_episode\".format(tracking_dir)\n",
    "offline_actions_per_episode_filename = \"{}/offline_actions_per_episode\".format(tracking_dir)\n",
    "epsilons_filename = \"{}/epsilons\".format(tracking_dir)\n",
    "training_loss_filename = \"./{}/training_loss\".format(tracking_dir)\n",
    "\n",
    "# Creating different dirs \n",
    "create_dir(training_dir) \n",
    "create_dir(tracking_dir)\n",
    "create_dir(saved_models_dir)\n",
    "create_dir(output_dir)\n",
    "\n",
    "episode_batch_start_time = time.time()\n",
    "\n",
    "for episode in range(initial_episode, total_episodes):\n",
    "    state = env.reset()\n",
    "\n",
    "    if debug:\n",
    "        print('\\nBeginning Episode : {}'.format(episode + 1))\n",
    "        print('Initial State : {}'.format(state))\n",
    "\n",
    "    add_to_dict(state, env.action_space)\n",
    "\n",
    "    total_reward = 0\n",
    "    total_time_taken = 0\n",
    "    terminal_state = False\n",
    "    total_trips = 0\n",
    "    total_offline_actions = 0\n",
    "\n",
    "    while not terminal_state:        \n",
    "        encoded_state = env.state_encod_arch1(state)\n",
    "\n",
    "        # 1. Pick epsilon-greedy action from possible actions for the current state\n",
    "        possible_actions_index, possible_actions = env.requests(state)\n",
    "        epsilons.append(agent.epsilon)\n",
    "        selected_action_index, action_predicted_q_value = agent.get_action(encoded_state, possible_actions_index)\n",
    "        action = env.action_space[selected_action_index]\n",
    "\n",
    "        if selected_action_index == 20:\n",
    "            total_offline_actions += 1 \n",
    "\n",
    "        populate_dicts(state, action, action_predicted_q_value)\n",
    "\n",
    "        # 2. Evaluate your reward and next state\n",
    "        next_state, reward, time_taken = env.step(state, action)\n",
    "        total_time_taken += time_taken\n",
    "        terminal_state = (total_time_taken >= total_available_hours)\n",
    "\n",
    "        add_to_dict(next_state, env.action_space)\n",
    "\n",
    "        encoded_next_state = env.state_encod_arch1(next_state)\n",
    "\n",
    "        # 3. Append the experience to the memory\n",
    "        agent.append_sample(encoded_state, selected_action_index, reward, \n",
    "                            encoded_next_state, terminal_state)\n",
    "\n",
    "        # 4. Train the model by calling function agent.train_model\n",
    "        agent.train_model()\n",
    "\n",
    "        # add reward to the total score of this episode\n",
    "        total_reward += reward\n",
    "        total_trips += 1\n",
    "        state = next_state\n",
    "\n",
    "    # 5. Keep a track of rewards, Q-values, loss\n",
    "    rewards_per_episode.append(total_reward)\n",
    "    trips_per_episode.append(total_trips)\n",
    "    offline_actions_per_episode.append(total_offline_actions)\n",
    "\n",
    "    if ((episode+1) % threshold) == 0:   #every threshold episode\n",
    "        # save tracking states\n",
    "        save_obj(States_track, states_tracked_filename) \n",
    "\n",
    "        # save model\n",
    "        model_filename = \"./{}/model_{}.h5\".format(saved_models_dir, episode)\n",
    "        agent.save(name=model_filename)\n",
    "\n",
    "        # save rewards per episode\n",
    "        save_obj(rewards_per_episode, rewards_per_episode_filename)\n",
    "\n",
    "        # save trips per episode\n",
    "        save_obj(trips_per_episode, trips_per_episode_filename)\n",
    "\n",
    "        # save offline actions per episode\n",
    "        save_obj(offline_actions_per_episode, offline_actions_per_episode_filename)\n",
    "\n",
    "        # save epsilons\n",
    "        save_obj(epsilons, epsilons_filename)\n",
    "\n",
    "        # save loss\n",
    "        save_obj(loss_callback.losses, training_loss_filename)\n",
    "\n",
    "        # saving policy\n",
    "        save_obj(Q_dict, policy_filename)\n",
    "\n",
    "        episode_batch_end_time = time.time()\n",
    "        episode_batch_elapsed_time = episode_batch_end_time - episode_batch_start_time\n",
    "        episode_batch_start_time = episode_batch_end_time\n",
    "\n",
    "        print(\"Episodes processed : {},\".format(episode + 1), \n",
    "              \"Current epsilon : {},\".format(agent.epsilon),\n",
    "              \"For last {} episodes - Avg. reward : {}, Avg. trips : {}, Avg. offline actions : {}, Elapsed Time : {}\".format(threshold, \n",
    "                                                                                                    np.mean(rewards_per_episode[(-1*threshold):]),\n",
    "                                                                                                    np.mean(trips_per_episode[(-1*threshold):]),\n",
    "                                                                                                    np.mean(offline_actions_per_episode[(-1*threshold):]),\n",
    "                                                                                                    episode_batch_elapsed_time)\n",
    "              )\n",
    "\n",
    "# save tracking states\n",
    "# For tracking (this would remain safe as getting saved in folder suffixed with timestamp)\n",
    "save_obj(States_track, states_tracked_filename)\n",
    "\n",
    "# For Testing (this would get overwritten on subsequent runs)\n",
    "save_obj(States_track, final_all_states_tracked_filename)\n",
    "\n",
    "\n",
    "# saving policy\n",
    "# For tracking (this would remain safe as getting saved in folder suffixed with timestamp)\n",
    "save_obj(Q_dict, policy_filename)\n",
    "\n",
    "# For Testing (this would get overwritten on subsequent runs)\n",
    "save_obj(Q_dict, final_policy_filename)\n",
    "\n",
    "\n",
    "# save model\n",
    "# For tracking (this would remain safe as getting saved in folder suffixed with timestamp)\n",
    "model_filename = \"./{}/model_{}.h5\".format(saved_models_dir, total_episodes)\n",
    "agent.save(name = model_filename)\n",
    "\n",
    "# For Testing (this would get overwritten on subsequent runs)\n",
    "agent.save(name = final_model_filename)\n",
    "\n",
    "\n",
    "# save rewards per episode\n",
    "# For tracking (this would remain safe as getting saved in folder suffixed with timestamp)\n",
    "save_obj(rewards_per_episode, rewards_per_episode_filename)\n",
    "\n",
    "# For Testing (this would get overwritten on subsequent runs)\n",
    "save_obj(rewards_per_episode, final_rewards_per_episode_filename)\n",
    "\n",
    "\n",
    "# save trips per episode\n",
    "# For tracking (this would remain safe as getting saved in folder suffixed with timestamp)\n",
    "save_obj(trips_per_episode, trips_per_episode_filename)\n",
    "\n",
    "# For Testing (this would get overwritten on subsequent runs)\n",
    "save_obj(trips_per_episode, final_trips_per_episode_filename)\n",
    "\n",
    "\n",
    "# save offline actions per episode\n",
    "# For tracking (this would remain safe as getting saved in folder suffixed with timestamp)\n",
    "save_obj(offline_actions_per_episode, offline_actions_per_episode_filename)\n",
    "\n",
    "# For Testing (this would get overwritten on subsequent runs)\n",
    "save_obj(offline_actions_per_episode, final_offline_actions_per_episode_filename)\n",
    "\n",
    "\n",
    "# save loss\n",
    "# For tracking (this would remain safe as getting saved in folder suffixed with timestamp)\n",
    "save_obj(loss_callback.losses, training_loss_filename)\n",
    "\n",
    "# For Testing (this would get overwritten on subsequent runs)\n",
    "save_obj(loss_callback.losses, final_training_loss_filename)\n",
    "\n",
    "\n",
    "# save epsilons\n",
    "# For tracking (this would remain safe as getting saved in folder suffixed with timestamp)\n",
    "save_obj(epsilons, epsilons_filename)\n",
    "\n",
    "# For Testing (this would get overwritten on subsequent runs)\n",
    "save_obj(epsilons, final_epsilons_filename)\n",
    "\n",
    "\n",
    "elapsed_time = time.time() - start_time\n",
    "print('Total Elapsed Time : {}'.format(elapsed_time))"
   ]
  },
  {
   "cell_type": "markdown",
   "metadata": {
    "colab_type": "text",
    "id": "ZQqT4LeTid_s"
   },
   "source": [
    "## Tracking Convergence"
   ]
  },
  {
   "cell_type": "markdown",
   "metadata": {
    "colab_type": "text",
    "id": "5e-4MJIYid_t"
   },
   "source": [
    "### Rewards"
   ]
  },
  {
   "cell_type": "markdown",
   "metadata": {
    "colab_type": "text",
    "id": "C-UF0cU6id_t"
   },
   "source": [
    "#### Reading Rewards per episode file"
   ]
  },
  {
   "cell_type": "code",
   "execution_count": 0,
   "metadata": {
    "colab": {},
    "colab_type": "code",
    "id": "NmceqOyXid_t"
   },
   "outputs": [],
   "source": [
    "final_rewards_per_episode = read_obj(final_rewards_per_episode_filename)"
   ]
  },
  {
   "cell_type": "markdown",
   "metadata": {
    "colab_type": "text",
    "id": "swgssirgid_v"
   },
   "source": [
    "#### Plotting episode vs rewards "
   ]
  },
  {
   "cell_type": "code",
   "execution_count": 0,
   "metadata": {
    "colab": {
     "base_uri": "https://localhost:8080/",
     "height": 280
    },
    "colab_type": "code",
    "executionInfo": {
     "elapsed": 1352,
     "status": "ok",
     "timestamp": 1588678423122,
     "user": {
      "displayName": "Apoorv Bhardwaj",
      "photoUrl": "https://lh3.googleusercontent.com/a-/AOh14GjYLrPUrGZItRK6R23BmZVTZY_tokQNxgr9E3E5=s64",
      "userId": "11838558921289780057"
     },
     "user_tz": -330
    },
    "id": "FWAXg066id_w",
    "outputId": "3296747e-4693-43c4-cd1e-aed95476d537"
   },
   "outputs": [
    {
     "data": {
      "image/png": "[encoded data removed]",
      "text/plain": [
       "<Figure size 432x288 with 1 Axes>"
      ]
     },
     "metadata": {
      "needs_background": "light",
      "tags": []
     },
     "output_type": "display_data"
    }
   ],
   "source": [
    "plt.plot(list(range(len(final_rewards_per_episode))), final_rewards_per_episode)\n",
    "plt.xlabel(\"Episode Number\")\n",
    "plt.ylabel(\"Reward per Episode\")\n",
    "\n",
    "# save plots in saved_plots/ directory\n",
    "plt.savefig(final_rewards_filename)"
   ]
  },
  {
   "cell_type": "markdown",
   "metadata": {
    "colab_type": "text",
    "id": "914noANWid_y"
   },
   "source": [
    "#### Average reward of last 100 episodes"
   ]
  },
  {
   "cell_type": "code",
   "execution_count": 0,
   "metadata": {
    "colab": {
     "base_uri": "https://localhost:8080/",
     "height": 35
    },
    "colab_type": "code",
    "executionInfo": {
     "elapsed": 2258,
     "status": "ok",
     "timestamp": 1588678430766,
     "user": {
      "displayName": "Apoorv Bhardwaj",
      "photoUrl": "https://lh3.googleusercontent.com/a-/AOh14GjYLrPUrGZItRK6R23BmZVTZY_tokQNxgr9E3E5=s64",
      "userId": "11838558921289780057"
     },
     "user_tz": -330
    },
    "id": "X5KwrSh6id_y",
    "outputId": "7e3ed6ea-55d8-4e34-cf33-dce7c954c179"
   },
   "outputs": [
    {
     "name": "stdout",
     "output_type": "stream",
     "text": [
      "Average reward of last 100 episodes is 1890.9\n"
     ]
    }
   ],
   "source": [
    "print(\"Average reward of last 100 episodes is {0}\".format(np.mean(final_rewards_per_episode[-100:]))) "
   ]
  },
  {
   "cell_type": "markdown",
   "metadata": {
    "colab_type": "text",
    "id": "1eOg0Mzzq3QT"
   },
   "source": [
    "### Trips"
   ]
  },
  {
   "cell_type": "markdown",
   "metadata": {
    "colab_type": "text",
    "id": "qqObhkakq3QW"
   },
   "source": [
    "#### Reading Trips per episode file"
   ]
  },
  {
   "cell_type": "code",
   "execution_count": 0,
   "metadata": {
    "colab": {},
    "colab_type": "code",
    "id": "qotU8Q8Cq3QX"
   },
   "outputs": [],
   "source": [
    "final_trips_per_episode = read_obj(final_trips_per_episode_filename)"
   ]
  },
  {
   "cell_type": "markdown",
   "metadata": {
    "colab_type": "text",
    "id": "Ch1LYb5Jq3Qc"
   },
   "source": [
    "#### Plotting episode vs trips "
   ]
  },
  {
   "cell_type": "code",
   "execution_count": 0,
   "metadata": {
    "colab": {
     "base_uri": "https://localhost:8080/",
     "height": 279
    },
    "colab_type": "code",
    "executionInfo": {
     "elapsed": 1321,
     "status": "ok",
     "timestamp": 1588678439368,
     "user": {
      "displayName": "Apoorv Bhardwaj",
      "photoUrl": "https://lh3.googleusercontent.com/a-/AOh14GjYLrPUrGZItRK6R23BmZVTZY_tokQNxgr9E3E5=s64",
      "userId": "11838558921289780057"
     },
     "user_tz": -330
    },
    "id": "rKr05sIZq3Qc",
    "outputId": "ae0efe05-ee70-4893-b8a8-05f57ca34f41"
   },
   "outputs": [
    {
     "data": {
      "image/png": "[encoded data removed]",
      "text/plain": [
       "<Figure size 432x288 with 1 Axes>"
      ]
     },
     "metadata": {
      "needs_background": "light",
      "tags": []
     },
     "output_type": "display_data"
    }
   ],
   "source": [
    "plt.plot(list(range(len(final_trips_per_episode))), final_trips_per_episode)\n",
    "plt.xlabel(\"Episode Number\")\n",
    "plt.ylabel(\"Trips per Episode\")\n",
    "\n",
    "# save plots in saved_plots/ directory\n",
    "plt.savefig(final_trips_filename)"
   ]
  },
  {
   "cell_type": "markdown",
   "metadata": {
    "colab_type": "text",
    "id": "wkNv43VUfTRu"
   },
   "source": [
    "#### Average trips of last 100 episodes"
   ]
  },
  {
   "cell_type": "code",
   "execution_count": 0,
   "metadata": {
    "colab": {
     "base_uri": "https://localhost:8080/",
     "height": 35
    },
    "colab_type": "code",
    "executionInfo": {
     "elapsed": 739,
     "status": "ok",
     "timestamp": 1588678443985,
     "user": {
      "displayName": "Apoorv Bhardwaj",
      "photoUrl": "https://lh3.googleusercontent.com/a-/AOh14GjYLrPUrGZItRK6R23BmZVTZY_tokQNxgr9E3E5=s64",
      "userId": "11838558921289780057"
     },
     "user_tz": -330
    },
    "id": "yhOdav3rfTRy",
    "outputId": "1ac84dbe-7bd3-4d4a-9842-6c0a776af66b"
   },
   "outputs": [
    {
     "name": "stdout",
     "output_type": "stream",
     "text": [
      "Average trips of last 100 episodes is 181.47\n"
     ]
    }
   ],
   "source": [
    "print(\"Average trips of last 100 episodes is {0}\".format(np.mean(final_trips_per_episode[-100:]))) "
   ]
  },
  {
   "cell_type": "markdown",
   "metadata": {
    "colab_type": "text",
    "id": "z0M7IUJ6bvAC"
   },
   "source": [
    "### Offline Actions"
   ]
  },
  {
   "cell_type": "markdown",
   "metadata": {
    "colab_type": "text",
    "id": "opkbc1kybvAD"
   },
   "source": [
    "#### Reading Offline Actions per episode file"
   ]
  },
  {
   "cell_type": "code",
   "execution_count": 0,
   "metadata": {
    "colab": {},
    "colab_type": "code",
    "id": "YIQz0YR7bvAE"
   },
   "outputs": [],
   "source": [
    "final_offline_actions_per_episode = read_obj(final_offline_actions_per_episode_filename)"
   ]
  },
  {
   "cell_type": "markdown",
   "metadata": {
    "colab_type": "text",
    "id": "ANWYJT-sbvAG"
   },
   "source": [
    "#### Plotting episode vs offline actions "
   ]
  },
  {
   "cell_type": "code",
   "execution_count": 0,
   "metadata": {
    "colab": {
     "base_uri": "https://localhost:8080/",
     "height": 279
    },
    "colab_type": "code",
    "executionInfo": {
     "elapsed": 1837,
     "status": "ok",
     "timestamp": 1588678452020,
     "user": {
      "displayName": "Apoorv Bhardwaj",
      "photoUrl": "https://lh3.googleusercontent.com/a-/AOh14GjYLrPUrGZItRK6R23BmZVTZY_tokQNxgr9E3E5=s64",
      "userId": "11838558921289780057"
     },
     "user_tz": -330
    },
    "id": "URyjW-UNbvAI",
    "outputId": "1ace5b8f-f0b2-4066-cb6b-486cfcaafedc"
   },
   "outputs": [
    {
     "data": {
      "image/png": "[encoded data removed]",
      "text/plain": [
       "<Figure size 432x288 with 1 Axes>"
      ]
     },
     "metadata": {
      "needs_background": "light",
      "tags": []
     },
     "output_type": "display_data"
    }
   ],
   "source": [
    "plt.plot(list(range(len(final_offline_actions_per_episode))), final_offline_actions_per_episode)\n",
    "plt.xlabel(\"Episode Number\")\n",
    "plt.ylabel(\"Offline Actions per Episode\")\n",
    "\n",
    "# save plots in saved_plots/ directory\n",
    "plt.savefig(final_offline_actions_filename)"
   ]
  },
  {
   "cell_type": "markdown",
   "metadata": {
    "colab_type": "text",
    "id": "NsQZDvGybvAK"
   },
   "source": [
    "#### Average offline actions of last 100 episodes"
   ]
  },
  {
   "cell_type": "code",
   "execution_count": 0,
   "metadata": {
    "colab": {
     "base_uri": "https://localhost:8080/",
     "height": 35
    },
    "colab_type": "code",
    "executionInfo": {
     "elapsed": 1148,
     "status": "ok",
     "timestamp": 1588678458429,
     "user": {
      "displayName": "Apoorv Bhardwaj",
      "photoUrl": "https://lh3.googleusercontent.com/a-/AOh14GjYLrPUrGZItRK6R23BmZVTZY_tokQNxgr9E3E5=s64",
      "userId": "11838558921289780057"
     },
     "user_tz": -330
    },
    "id": "xZEGjgambvAL",
    "outputId": "00633b1d-48a1-4b08-8397-620e65664736"
   },
   "outputs": [
    {
     "name": "stdout",
     "output_type": "stream",
     "text": [
      "Average offline actions of last 100 episodes is 45.22\n"
     ]
    }
   ],
   "source": [
    "print(\"Average offline actions of last 100 episodes is {0}\".format(np.mean(final_offline_actions_per_episode[-100:]))) "
   ]
  },
  {
   "cell_type": "markdown",
   "metadata": {
    "colab_type": "text",
    "id": "tMtNeDXXJChh"
   },
   "source": [
    "### Loss"
   ]
  },
  {
   "cell_type": "markdown",
   "metadata": {
    "colab_type": "text",
    "id": "0jomIVJbJChi"
   },
   "source": [
    "#### Reading loss file"
   ]
  },
  {
   "cell_type": "code",
   "execution_count": 0,
   "metadata": {
    "colab": {},
    "colab_type": "code",
    "id": "3K_WXFBMJChj"
   },
   "outputs": [],
   "source": [
    "final_training_loss = read_obj(final_training_loss_filename)"
   ]
  },
  {
   "cell_type": "markdown",
   "metadata": {
    "colab_type": "text",
    "id": "9MdoMGjOJbq2"
   },
   "source": [
    "#### Define loss plot"
   ]
  },
  {
   "cell_type": "code",
   "execution_count": 0,
   "metadata": {
    "colab": {},
    "colab_type": "code",
    "id": "XYLBj6_lJbq8"
   },
   "outputs": [],
   "source": [
    "def plot_loss(loss):        \n",
    "    plt.title('Loss')\n",
    "    plt.yscale('log')\n",
    "    plt.plot(list(range(len(loss))), loss)\n",
    "\n",
    "    # save plots in saved_plots/ directory\n",
    "    plt.savefig(final_loss_filename)"
   ]
  },
  {
   "cell_type": "markdown",
   "metadata": {
    "colab_type": "text",
    "id": "okgeA7xtJChn"
   },
   "source": [
    "#### Plotting loss"
   ]
  },
  {
   "cell_type": "code",
   "execution_count": 0,
   "metadata": {
    "colab": {
     "base_uri": "https://localhost:8080/",
     "height": 294
    },
    "colab_type": "code",
    "executionInfo": {
     "elapsed": 4931,
     "status": "ok",
     "timestamp": 1588684379065,
     "user": {
      "displayName": "Apoorv Bhardwaj",
      "photoUrl": "https://lh3.googleusercontent.com/a-/AOh14GjYLrPUrGZItRK6R23BmZVTZY_tokQNxgr9E3E5=s64",
      "userId": "11838558921289780057"
     },
     "user_tz": -330
    },
    "id": "HaaIAHZ1JChn",
    "outputId": "e68007f3-4a26-4b6f-b0ae-6741c4490f2b"
   },
   "outputs": [
    {
     "data": {
      "image/png": "[encoded data removed]",
      "text/plain": [
       "<Figure size 432x288 with 1 Axes>"
      ]
     },
     "metadata": {
      "needs_background": "light",
      "tags": []
     },
     "output_type": "display_data"
    }
   ],
   "source": [
    "plot_loss(final_training_loss)"
   ]
  },
  {
   "cell_type": "markdown",
   "metadata": {
    "colab_type": "text",
    "id": "yNIL4Bfnid_0"
   },
   "source": [
    "### States Tracked"
   ]
  },
  {
   "cell_type": "markdown",
   "metadata": {
    "colab_type": "text",
    "id": "NiHzyj8mid_5"
   },
   "source": [
    "#### Define state actions plot"
   ]
  },
  {
   "cell_type": "code",
   "execution_count": 19,
   "metadata": {
    "colab": {},
    "colab_type": "code",
    "id": "cPjQJK42id_5"
   },
   "outputs": [],
   "source": [
    "def plot_state_actions(state_action_pairs, tracked_states, states_tracked_filename, last_tracked_count = None):        \n",
    "    state_action_values = []\n",
    "    for state_actions in state_action_pairs:\n",
    "        state = state_actions[0]\n",
    "        action = state_actions[1]\n",
    "        state_action_values.append((state, action, tracked_states[state][action]))\n",
    "\n",
    "    if last_tracked_count:\n",
    "        states_tracked_filename = '{}_{}'.format(states_tracked_filename, last_tracked_count) \n",
    "\n",
    "    plt.figure(0, figsize=(20,10))\n",
    "    \n",
    "    for idx, action_values in enumerate(state_action_values):\n",
    "        plt.subplot(math.ceil(len(state_action_values) / 3), 3, idx + 1)\n",
    "\n",
    "        state = action_values[0]\n",
    "        action = action_values[1]\n",
    "        values = action_values[2]\n",
    "        \n",
    "        tracked_count = last_tracked_count\n",
    "\n",
    "        if not last_tracked_count:\n",
    "            plt.yscale('log')\n",
    "            tracked_count = len(values)\n",
    "\n",
    "        values_to_plot = values[(-1*tracked_count):]\n",
    "\n",
    "        plt.title('state={} action={}'.format(state, action))\n",
    "        plt.plot(list(range(len(values_to_plot))), values_to_plot)\n",
    "\n",
    "    # save plots in saved_plots/ directory\n",
    "    states_tracked_filename = states_tracked_filename + '.png'\n",
    "    plt.savefig(states_tracked_filename)"
   ]
  },
  {
   "cell_type": "markdown",
   "metadata": {
    "colab_type": "text",
    "id": "ToJ0_Q_-id_1"
   },
   "source": [
    "#### Reading States_tracked file"
   ]
  },
  {
   "cell_type": "code",
   "execution_count": 20,
   "metadata": {
    "colab": {},
    "colab_type": "code",
    "id": "H15AEW9uid_1"
   },
   "outputs": [],
   "source": [
    "final_states_track = read_obj(final_all_states_tracked_filename)"
   ]
  },
  {
   "cell_type": "markdown",
   "metadata": {
    "colab_type": "text",
    "id": "9KvMXI3WmpXR"
   },
   "source": [
    "#### Most common state-action pairs"
   ]
  },
  {
   "cell_type": "markdown",
   "metadata": {
    "colab_type": "text",
    "id": "uhUcQoY_id_3"
   },
   "source": [
    "##### Getting most common state-action pairs"
   ]
  },
  {
   "cell_type": "code",
   "execution_count": 21,
   "metadata": {
    "colab": {
     "base_uri": "https://localhost:8080/",
     "height": 105
    },
    "colab_type": "code",
    "executionInfo": {
     "elapsed": 6722,
     "status": "ok",
     "timestamp": 1588685136732,
     "user": {
      "displayName": "Apoorv Bhardwaj",
      "photoUrl": "https://lh3.googleusercontent.com/a-/AOh14GjYLrPUrGZItRK6R23BmZVTZY_tokQNxgr9E3E5=s64",
      "userId": "11838558921289780057"
     },
     "user_tz": -330
    },
    "id": "01H6xS-Lid_3",
    "outputId": "b3c1bda5-ef1d-4974-8432-6719c4b9af14"
   },
   "outputs": [
    {
     "data": {
      "text/plain": [
       "[('1-19-2', (0, 0), 4772),\n",
       " ('1-17-6', (0, 0), 4680),\n",
       " ('1-16-6', (0, 0), 4619),\n",
       " ('1-18-2', (0, 0), 4422),\n",
       " ('1-16-2', (0, 0), 4316)]"
      ]
     },
     "execution_count": 21,
     "metadata": {},
     "output_type": "execute_result"
    }
   ],
   "source": [
    "most_common_state_action_pair, most_common_states_track = populate_common_state_action_track(final_states_track)\n",
    "\n",
    "most_common_state_action_pair"
   ]
  },
  {
   "cell_type": "markdown",
   "metadata": {
    "colab_type": "text",
    "id": "IEFAOcvfmfvZ"
   },
   "source": [
    "##### Saving most common state-action pairs"
   ]
  },
  {
   "cell_type": "code",
   "execution_count": 22,
   "metadata": {
    "colab": {},
    "colab_type": "code",
    "id": "a7PkifkUmd0H"
   },
   "outputs": [],
   "source": [
    "save_obj(most_common_states_track, final_most_common_states_tracked_filename)"
   ]
  },
  {
   "cell_type": "markdown",
   "metadata": {
    "colab_type": "text",
    "id": "NIqf5K7Oid_8"
   },
   "source": [
    "##### Plotting most common state actions"
   ]
  },
  {
   "cell_type": "markdown",
   "metadata": {
    "colab_type": "text",
    "id": "jdrKqJAypIDM"
   },
   "source": [
    "###### Plotting complete state actions"
   ]
  },
  {
   "cell_type": "code",
   "execution_count": 23,
   "metadata": {
    "colab": {
     "base_uri": "https://localhost:8080/",
     "height": 579
    },
    "colab_type": "code",
    "executionInfo": {
     "elapsed": 2897,
     "status": "ok",
     "timestamp": 1588685736583,
     "user": {
      "displayName": "Apoorv Bhardwaj",
      "photoUrl": "https://lh3.googleusercontent.com/a-/AOh14GjYLrPUrGZItRK6R23BmZVTZY_tokQNxgr9E3E5=s64",
      "userId": "11838558921289780057"
     },
     "user_tz": -330
    },
    "id": "EGXUmur1id_8",
    "outputId": "37845c79-0e20-4f6a-ed2b-83a7c27ebdaa"
   },
   "outputs": [
    {
     "data": {
      "image/png": "[encoded data removed]",
      "text/plain": [
       "<Figure size 1440x720 with 5 Axes>"
      ]
     },
     "metadata": {
      "needs_background": "light"
     },
     "output_type": "display_data"
    }
   ],
   "source": [
    "plot_state_actions(most_common_state_action_pair, most_common_states_track, final_most_common_state_actions_filename)"
   ]
  },
  {
   "cell_type": "markdown",
   "metadata": {
    "colab_type": "text",
    "id": "2767SNtmpRGF"
   },
   "source": [
    "###### Plotting last 1000 state actions"
   ]
  },
  {
   "cell_type": "code",
   "execution_count": 24,
   "metadata": {
    "colab": {
     "base_uri": "https://localhost:8080/",
     "height": 582
    },
    "colab_type": "code",
    "executionInfo": {
     "elapsed": 3294,
     "status": "ok",
     "timestamp": 1588685753610,
     "user": {
      "displayName": "Apoorv Bhardwaj",
      "photoUrl": "https://lh3.googleusercontent.com/a-/AOh14GjYLrPUrGZItRK6R23BmZVTZY_tokQNxgr9E3E5=s64",
      "userId": "11838558921289780057"
     },
     "user_tz": -330
    },
    "id": "KwJFZu7Did_-",
    "outputId": "c5176b77-509d-41cd-c083-79f59b6cbb3b"
   },
   "outputs": [
    {
     "data": {
      "image/png": "[encoded data removed]",
      "text/plain": [
       "<Figure size 1440x720 with 5 Axes>"
      ]
     },
     "metadata": {
      "needs_background": "light"
     },
     "output_type": "display_data"
    }
   ],
   "source": [
    "plot_state_actions(most_common_state_action_pair, most_common_states_track, final_most_common_state_actions_filename, 1000)"
   ]
  },
  {
   "cell_type": "markdown",
   "metadata": {
    "colab_type": "text",
    "id": "4mgwuuMk6sDO"
   },
   "source": [
    "## Epsilon-decay function"
   ]
  },
  {
   "cell_type": "markdown",
   "metadata": {
    "colab_type": "text",
    "id": "H10g1EQN7Yjl"
   },
   "source": [
    "### Sample function\n",
    "<div class=\"alert alert-block alert-info\">\n",
    "Try building a similar epsilon-decay function for your model.\n",
    "</div>"
   ]
  },
  {
   "cell_type": "code",
   "execution_count": 0,
   "metadata": {
    "colab": {
     "base_uri": "https://localhost:8080/",
     "height": 283
    },
    "colab_type": "code",
    "executionInfo": {
     "elapsed": 1364,
     "status": "ok",
     "timestamp": 1588678553027,
     "user": {
      "displayName": "Apoorv Bhardwaj",
      "photoUrl": "https://lh3.googleusercontent.com/a-/AOh14GjYLrPUrGZItRK6R23BmZVTZY_tokQNxgr9E3E5=s64",
      "userId": "11838558921289780057"
     },
     "user_tz": -330
    },
    "id": "i8eI6FxLieAC",
    "outputId": "c1a3b606-e083-4067-d83d-16711df04910"
   },
   "outputs": [
    {
     "data": {
      "image/png": "[encoded data removed]",
      "text/plain": [
       "<Figure size 432x288 with 1 Axes>"
      ]
     },
     "metadata": {
      "needs_background": "light",
      "tags": []
     },
     "output_type": "display_data"
    },
    {
     "name": "stdout",
     "output_type": "stream",
     "text": [
      "0.4883\n"
     ]
    }
   ],
   "source": [
    "episode_steps = np.arange(0,10000)\n",
    "epsilons = []\n",
    "for i in range(0,10000):\n",
    "    epsilons.append(0 + (1 - 0) * np.exp(-0.0009*i))\n",
    "plt.plot(episode_steps, epsilons)\n",
    "plt.show()\n",
    "\n",
    "print(len(list(filter(lambda x: x < 0.01, epsilons)))/len(epsilons))"
   ]
  },
  {
   "cell_type": "markdown",
   "metadata": {
    "colab_type": "text",
    "id": "hn_o_9is7n6t"
   },
   "source": [
    "### Used function"
   ]
  },
  {
   "cell_type": "markdown",
   "metadata": {
    "colab_type": "text",
    "id": "vcLzRLqK6w4w"
   },
   "source": [
    "#### Reading epsilons file"
   ]
  },
  {
   "cell_type": "code",
   "execution_count": 0,
   "metadata": {
    "colab": {},
    "colab_type": "code",
    "id": "ijzUvoUq6w4y"
   },
   "outputs": [],
   "source": [
    "final_epsilons = read_obj(final_epsilons_filename)"
   ]
  },
  {
   "cell_type": "markdown",
   "metadata": {
    "colab_type": "text",
    "id": "Txgt9L_q7Jjl"
   },
   "source": [
    "#### Plotting calculated epsilons"
   ]
  },
  {
   "cell_type": "code",
   "execution_count": 0,
   "metadata": {
    "colab": {
     "base_uri": "https://localhost:8080/",
     "height": 278
    },
    "colab_type": "code",
    "executionInfo": {
     "elapsed": 2723,
     "status": "ok",
     "timestamp": 1588678562595,
     "user": {
      "displayName": "Apoorv Bhardwaj",
      "photoUrl": "https://lh3.googleusercontent.com/a-/AOh14GjYLrPUrGZItRK6R23BmZVTZY_tokQNxgr9E3E5=s64",
      "userId": "11838558921289780057"
     },
     "user_tz": -330
    },
    "id": "xW9yAJGT6-g-",
    "outputId": "3e641cc8-492f-406a-eb93-172346386701"
   },
   "outputs": [
    {
     "data": {
      "image/png": "[encoded data removed]",
      "text/plain": [
       "<Figure size 432x288 with 1 Axes>"
      ]
     },
     "metadata": {
      "needs_background": "light",
      "tags": []
     },
     "output_type": "display_data"
    }
   ],
   "source": [
    "episode_steps = np.arange(0, len(final_epsilons))\n",
    "plt.plot(episode_steps, final_epsilons)\n",
    "plt.show()"
   ]
  },
  {
   "cell_type": "markdown",
   "metadata": {
    "colab_type": "text",
    "id": "zemkVkQTyR3l"
   },
   "source": [
    "## Testing Model"
   ]
  },
  {
   "cell_type": "markdown",
   "metadata": {
    "colab_type": "text",
    "id": "fvhuuMKLTpEN"
   },
   "source": [
    "### Defining function to test"
   ]
  },
  {
   "cell_type": "code",
   "execution_count": 0,
   "metadata": {
    "colab": {},
    "colab_type": "code",
    "id": "0C4AyUU_TNIK"
   },
   "outputs": [],
   "source": [
    "def test_model(total_available_hours, epsilon = 0, debug = True):\n",
    "    # Call the environment\n",
    "    env = CabDriver(Time_matrix, debug = debug)\n",
    "\n",
    "    # Call all the initialised variables of the environment\n",
    "    state_size = env.state_size\n",
    "    action_size = len(env.action_space)\n",
    "\n",
    "    # Call the DQN agent\n",
    "    agent = DQNAgent(action_size=action_size, state_size=state_size, debug = debug,\n",
    "                     epsilon_min = epsilon, \n",
    "                    saved_model_path = final_model_filename, is_training = False)\n",
    "\n",
    "    # Initial state\n",
    "    state = env.reset()\n",
    "\n",
    "    total_reward = 0\n",
    "    total_time_taken = 0\n",
    "    total_trips = 0\n",
    "\n",
    "    while total_time_taken < total_available_hours:\n",
    "        encoded_state = env.state_encod_arch1(state)\n",
    "            \n",
    "        possible_actions_index, possible_actions = env.requests(state)\n",
    "        selected_action_index = agent.get_action(encoded_state, possible_actions_index)[0]\n",
    "        action = env.action_space[selected_action_index]\n",
    "            \n",
    "        next_state, reward, time_taken = env.step(state, action)\n",
    "            \n",
    "        total_time_taken += time_taken\n",
    "        total_reward += reward\n",
    "        total_trips += 1\n",
    "        state = next_state\n",
    "\n",
    "    print('\\nTotal time taken is:', total_time_taken)\n",
    "    print('\\nTotal trips taken is:', total_trips)\n",
    "    print('Total reward is:', total_reward)"
   ]
  },
  {
   "cell_type": "markdown",
   "metadata": {
    "colab_type": "text",
    "id": "GuvgxC5HUQ7i"
   },
   "source": [
    "### Testing total rewards calculation for 1 complete episode"
   ]
  },
  {
   "cell_type": "code",
   "execution_count": 0,
   "metadata": {
    "colab": {
     "base_uri": "https://localhost:8080/",
     "height": 105
    },
    "colab_type": "code",
    "executionInfo": {
     "elapsed": 1755,
     "status": "ok",
     "timestamp": 1588678584921,
     "user": {
      "displayName": "Apoorv Bhardwaj",
      "photoUrl": "https://lh3.googleusercontent.com/a-/AOh14GjYLrPUrGZItRK6R23BmZVTZY_tokQNxgr9E3E5=s64",
      "userId": "11838558921289780057"
     },
     "user_tz": -330
    },
    "id": "NDow4APZ5dah",
    "outputId": "8b2a1dd2-993a-4301-b087-34248378ab34"
   },
   "outputs": [
    {
     "name": "stdout",
     "output_type": "stream",
     "text": [
      "\n",
      "Total time taken is: 724\n",
      "\n",
      "Total trips taken is: 184\n",
      "Total reward is: 1618\n"
     ]
    }
   ],
   "source": [
    "test_model(24*30, debug = False)"
   ]
  },
  {
   "cell_type": "markdown",
   "metadata": {
    "colab_type": "text",
    "id": "m3k8zS1UTvUa"
   },
   "source": [
    "### Testing request simulation for 1 day"
   ]
  },
  {
   "cell_type": "code",
   "execution_count": 0,
   "metadata": {
    "colab": {
     "base_uri": "https://localhost:8080/",
     "height": 1000
    },
    "colab_type": "code",
    "executionInfo": {
     "elapsed": 2359,
     "status": "ok",
     "timestamp": 1588678578349,
     "user": {
      "displayName": "Apoorv Bhardwaj",
      "photoUrl": "https://lh3.googleusercontent.com/a-/AOh14GjYLrPUrGZItRK6R23BmZVTZY_tokQNxgr9E3E5=s64",
      "userId": "11838558921289780057"
     },
     "user_tz": -330
    },
    "id": "ByinGwKmieAG",
    "outputId": "c789161d-9525-42e1-c7f6-a59f06bc0471",
    "scrolled": false
   },
   "outputs": [
    {
     "name": "stdout",
     "output_type": "stream",
     "text": [
      "\n",
      "Time Matrix Shape : (5, 5, 24, 7)\n",
      "\n",
      "Total Locations : 5\n",
      "\n",
      "Total no. of hours : 24\n",
      "\n",
      "Total no. of days : 7\n",
      "\n",
      "State Size : 36\n",
      "\n",
      "Action Space Size : 21\n",
      "\n",
      "Action Space : [(1, 2), (1, 3), (1, 4), (1, 5), (2, 1), (2, 3), (2, 4), (2, 5), (3, 1), (3, 2), (3, 4), (3, 5), (4, 1), (4, 2), (4, 3), (4, 5), (5, 1), (5, 2), (5, 3), (5, 4), (0, 0)]\n",
      "\n",
      "State Space Size : 840\n",
      "\n",
      "Location : 4\n",
      "Encoded Location : [0. 0. 0. 1. 0.]\n",
      "\n",
      "Time : 11\n",
      "Encoded Time : [0. 0. 0. 0. 0. 0. 0. 0. 0. 0. 0. 1. 0. 0. 0. 0. 0. 0. 0. 0. 0. 0. 0. 0.]\n",
      "\n",
      "Day : 6\n",
      "Encoded Day : [0. 0. 0. 0. 0. 0. 1.]\n",
      "\n",
      "State : (4, 11, 6)\n",
      "Encoded State : [0. 0. 0. 1. 0. 0. 0. 0. 0. 0. 0. 0. 0. 0. 0. 0. 1. 0. 0. 0. 0. 0. 0. 0.\n",
      " 0. 0. 0. 0. 0. 0. 0. 0. 0. 0. 0. 1.]\n",
      "\n",
      "Total Requests : 4\n",
      "Possible Actions Index : [11, 4, 3, 8, 20]\n",
      "Actions : [(3, 5), (2, 1), (1, 5), (3, 1), (0, 0)]\n",
      "\n",
      "Action Counter : 1\n",
      "Epsilon value : 0\n",
      "Possible Actions Index : [11, 4, 3, 8, 20]\n",
      "z value : 0.386\n",
      "Predicted Possible Q-values : [1608.0945, 1614.2634, 1598.4447, 1591.8197, 1615.6195]\n",
      "Selected Possible Action Index : 4\n",
      "Exploitation Overall Action Index : 20\n",
      "Selected Possible Action Q Value : 1615.6195068359375\n",
      "\n",
      "Current State : (4, 11, 6)\n",
      "Current Action : (0, 0)\n",
      "\n",
      "Per Hour Revenue : 9\n",
      "Per Hour Cost : 5\n",
      "\n",
      "Total Time Taken : 1\n",
      "Next State : [4, 12, 6]\n",
      "Reward : -5\n",
      "\n",
      "Location : 4\n",
      "Encoded Location : [0. 0. 0. 1. 0.]\n",
      "\n",
      "Time : 12\n",
      "Encoded Time : [0. 0. 0. 0. 0. 0. 0. 0. 0. 0. 0. 0. 1. 0. 0. 0. 0. 0. 0. 0. 0. 0. 0. 0.]\n",
      "\n",
      "Day : 6\n",
      "Encoded Day : [0. 0. 0. 0. 0. 0. 1.]\n",
      "\n",
      "State : [4, 12, 6]\n",
      "Encoded State : [0. 0. 0. 1. 0. 0. 0. 0. 0. 0. 0. 0. 0. 0. 0. 0. 0. 1. 0. 0. 0. 0. 0. 0.\n",
      " 0. 0. 0. 0. 0. 0. 0. 0. 0. 0. 0. 1.]\n",
      "\n",
      "Total Requests : 6\n",
      "Possible Actions Index : [5, 1, 14, 7, 19, 13, 20]\n",
      "Actions : [(2, 3), (1, 3), (4, 3), (2, 5), (5, 4), (4, 2), (0, 0)]\n",
      "\n",
      "Action Counter : 2\n",
      "Epsilon value : 0\n",
      "Possible Actions Index : [5, 1, 14, 7, 19, 13, 20]\n",
      "z value : 0.164\n",
      "Predicted Possible Q-values : [1614.8618, 1620.3567, 1642.5898, 1638.0961, 1619.3923, 1640.9193, 1623.2306]\n",
      "Selected Possible Action Index : 2\n",
      "Exploitation Overall Action Index : 14\n",
      "Selected Possible Action Q Value : 1642.58984375\n",
      "\n",
      "Current State : [4, 12, 6]\n",
      "Current Action : (4, 3)\n",
      "\n",
      "Current location : 4, Source location : 4, Destination location : 3\n",
      "Current hour of day : 12, Current day of week : 6\n",
      "\n",
      "Start Location : 4\n",
      "End Location : 4\n",
      "Hour : 12\n",
      "Day : 6\n",
      "Time to reach source : 0\n",
      "Updated hour of day : 12, Updated day of week : 6\n",
      "\n",
      "Start Location : 4\n",
      "End Location : 3\n",
      "Hour : 12\n",
      "Day : 6\n",
      "Time to reach destination : 8\n",
      "\n",
      "Per Hour Revenue : 9\n",
      "Per Hour Cost : 5\n",
      "\n",
      "Total Time Taken : 8\n",
      "Next State : [3, 20, 6]\n",
      "Reward : 32\n",
      "\n",
      "Location : 3\n",
      "Encoded Location : [0. 0. 1. 0. 0.]\n",
      "\n",
      "Time : 20\n",
      "Encoded Time : [0. 0. 0. 0. 0. 0. 0. 0. 0. 0. 0. 0. 0. 0. 0. 0. 0. 0. 0. 0. 1. 0. 0. 0.]\n",
      "\n",
      "Day : 6\n",
      "Encoded Day : [0. 0. 0. 0. 0. 0. 1.]\n",
      "\n",
      "State : [3, 20, 6]\n",
      "Encoded State : [0. 0. 1. 0. 0. 0. 0. 0. 0. 0. 0. 0. 0. 0. 0. 0. 0. 0. 0. 0. 0. 0. 0. 0.\n",
      " 0. 1. 0. 0. 0. 0. 0. 0. 0. 0. 0. 1.]\n",
      "\n",
      "Total Requests : 6\n",
      "Possible Actions Index : [6, 13, 14, 16, 9, 19, 20]\n",
      "Actions : [(2, 4), (4, 2), (4, 3), (5, 1), (3, 2), (5, 4), (0, 0)]\n",
      "\n",
      "Action Counter : 3\n",
      "Epsilon value : 0\n",
      "Possible Actions Index : [6, 13, 14, 16, 9, 19, 20]\n",
      "z value : 0.756\n",
      "Predicted Possible Q-values : [1615.5538, 1621.6663, 1604.5656, 1639.5771, 1649.5885, 1627.9264, 1626.3959]\n",
      "Selected Possible Action Index : 4\n",
      "Exploitation Overall Action Index : 9\n",
      "Selected Possible Action Q Value : 1649.5885009765625\n",
      "\n",
      "Current State : [3, 20, 6]\n",
      "Current Action : (3, 2)\n",
      "\n",
      "Current location : 3, Source location : 3, Destination location : 2\n",
      "Current hour of day : 20, Current day of week : 6\n",
      "\n",
      "Start Location : 3\n",
      "End Location : 3\n",
      "Hour : 20\n",
      "Day : 6\n",
      "Time to reach source : 0\n",
      "Updated hour of day : 20, Updated day of week : 6\n",
      "\n",
      "Start Location : 3\n",
      "End Location : 2\n",
      "Hour : 20\n",
      "Day : 6\n",
      "Time to reach destination : 8\n",
      "\n",
      "Per Hour Revenue : 9\n",
      "Per Hour Cost : 5\n",
      "\n",
      "Total Time Taken : 8\n",
      "Next State : [2, 4, 0]\n",
      "Reward : 32\n",
      "\n",
      "Location : 2\n",
      "Encoded Location : [0. 1. 0. 0. 0.]\n",
      "\n",
      "Time : 4\n",
      "Encoded Time : [0. 0. 0. 0. 1. 0. 0. 0. 0. 0. 0. 0. 0. 0. 0. 0. 0. 0. 0. 0. 0. 0. 0. 0.]\n",
      "\n",
      "Day : 0\n",
      "Encoded Day : [1. 0. 0. 0. 0. 0. 0.]\n",
      "\n",
      "State : [2, 4, 0]\n",
      "Encoded State : [0. 1. 0. 0. 0. 0. 0. 0. 0. 1. 0. 0. 0. 0. 0. 0. 0. 0. 0. 0. 0. 0. 0. 0.\n",
      " 0. 0. 0. 0. 0. 1. 0. 0. 0. 0. 0. 0.]\n",
      "\n",
      "Total Requests : 12\n",
      "Possible Actions Index : [17, 16, 7, 6, 9, 1, 11, 2, 0, 18, 12, 5, 20]\n",
      "Actions : [(5, 2), (5, 1), (2, 5), (2, 4), (3, 2), (1, 3), (3, 5), (1, 4), (1, 2), (5, 3), (4, 1), (2, 3), (0, 0)]\n",
      "\n",
      "Action Counter : 4\n",
      "Epsilon value : 0\n",
      "Possible Actions Index : [17, 16, 7, 6, 9, 1, 11, 2, 0, 18, 12, 5, 20]\n",
      "z value : 0.801\n",
      "Predicted Possible Q-values : [1641.783, 1630.47, 1662.0978, 1651.2432, 1623.7622, 1636.7932, 1628.0635, 1630.7418, 1629.5221, 1626.3014, 1627.0267, 1653.9163, 1634.3557]\n",
      "Selected Possible Action Index : 2\n",
      "Exploitation Overall Action Index : 7\n",
      "Selected Possible Action Q Value : 1662.0977783203125\n",
      "\n",
      "Current State : [2, 4, 0]\n",
      "Current Action : (2, 5)\n",
      "\n",
      "Current location : 2, Source location : 2, Destination location : 5\n",
      "Current hour of day : 4, Current day of week : 0\n",
      "\n",
      "Start Location : 2\n",
      "End Location : 2\n",
      "Hour : 4\n",
      "Day : 0\n",
      "Time to reach source : 0\n",
      "Updated hour of day : 4, Updated day of week : 0\n",
      "\n",
      "Start Location : 2\n",
      "End Location : 5\n",
      "Hour : 4\n",
      "Day : 0\n",
      "Time to reach destination : 4\n",
      "\n",
      "Per Hour Revenue : 9\n",
      "Per Hour Cost : 5\n",
      "\n",
      "Total Time Taken : 4\n",
      "Next State : [5, 8, 0]\n",
      "Reward : 16\n",
      "\n",
      "Location : 5\n",
      "Encoded Location : [0. 0. 0. 0. 1.]\n",
      "\n",
      "Time : 8\n",
      "Encoded Time : [0. 0. 0. 0. 0. 0. 0. 0. 1. 0. 0. 0. 0. 0. 0. 0. 0. 0. 0. 0. 0. 0. 0. 0.]\n",
      "\n",
      "Day : 0\n",
      "Encoded Day : [1. 0. 0. 0. 0. 0. 0.]\n",
      "\n",
      "State : [5, 8, 0]\n",
      "Encoded State : [0. 0. 0. 0. 1. 0. 0. 0. 0. 0. 0. 0. 0. 1. 0. 0. 0. 0. 0. 0. 0. 0. 0. 0.\n",
      " 0. 0. 0. 0. 0. 1. 0. 0. 0. 0. 0. 0.]\n",
      "\n",
      "Total Requests : 10\n",
      "Possible Actions Index : [3, 7, 11, 13, 6, 8, 1, 12, 17, 16, 20]\n",
      "Actions : [(1, 5), (2, 5), (3, 5), (4, 2), (2, 4), (3, 1), (1, 3), (4, 1), (5, 2), (5, 1), (0, 0)]\n",
      "\n",
      "Action Counter : 5\n",
      "Epsilon value : 0\n",
      "Possible Actions Index : [3, 7, 11, 13, 6, 8, 1, 12, 17, 16, 20]\n",
      "z value : 0.455\n",
      "Predicted Possible Q-values : [1619.5881, 1627.2975, 1641.5096, 1623.8481, 1611.1072, 1638.8706, 1628.9813, 1591.7625, 1641.5482, 1643.3118, 1624.1954]\n",
      "Selected Possible Action Index : 9\n",
      "Exploitation Overall Action Index : 16\n",
      "Selected Possible Action Q Value : 1643.311767578125\n",
      "\n",
      "Current State : [5, 8, 0]\n",
      "Current Action : (5, 1)\n",
      "\n",
      "Current location : 5, Source location : 5, Destination location : 1\n",
      "Current hour of day : 8, Current day of week : 0\n",
      "\n",
      "Start Location : 5\n",
      "End Location : 5\n",
      "Hour : 8\n",
      "Day : 0\n",
      "Time to reach source : 0\n",
      "Updated hour of day : 8, Updated day of week : 0\n",
      "\n",
      "Start Location : 5\n",
      "End Location : 1\n",
      "Hour : 8\n",
      "Day : 0\n",
      "Time to reach destination : 1\n",
      "\n",
      "Per Hour Revenue : 9\n",
      "Per Hour Cost : 5\n",
      "\n",
      "Total Time Taken : 1\n",
      "Next State : [1, 9, 0]\n",
      "Reward : 4\n",
      "\n",
      "Location : 1\n",
      "Encoded Location : [1. 0. 0. 0. 0.]\n",
      "\n",
      "Time : 9\n",
      "Encoded Time : [0. 0. 0. 0. 0. 0. 0. 0. 0. 1. 0. 0. 0. 0. 0. 0. 0. 0. 0. 0. 0. 0. 0. 0.]\n",
      "\n",
      "Day : 0\n",
      "Encoded Day : [1. 0. 0. 0. 0. 0. 0.]\n",
      "\n",
      "State : [1, 9, 0]\n",
      "Encoded State : [1. 0. 0. 0. 0. 0. 0. 0. 0. 0. 0. 0. 0. 0. 1. 0. 0. 0. 0. 0. 0. 0. 0. 0.\n",
      " 0. 0. 0. 0. 0. 1. 0. 0. 0. 0. 0. 0.]\n",
      "\n",
      "Total Requests : 0\n",
      "Possible Actions Index : [20]\n",
      "Actions : [(0, 0)]\n",
      "\n",
      "Action Counter : 6\n",
      "Epsilon value : 0\n",
      "Possible Actions Index : [20]\n",
      "z value : 0.585\n",
      "Predicted Possible Q-values : [1636.0674]\n",
      "Selected Possible Action Index : 0\n",
      "Exploitation Overall Action Index : 20\n",
      "Selected Possible Action Q Value : 1636.0673828125\n",
      "\n",
      "Current State : [1, 9, 0]\n",
      "Current Action : (0, 0)\n",
      "\n",
      "Per Hour Revenue : 9\n",
      "Per Hour Cost : 5\n",
      "\n",
      "Total Time Taken : 1\n",
      "Next State : [1, 10, 0]\n",
      "Reward : -5\n",
      "\n",
      "Location : 1\n",
      "Encoded Location : [1. 0. 0. 0. 0.]\n",
      "\n",
      "Time : 10\n",
      "Encoded Time : [0. 0. 0. 0. 0. 0. 0. 0. 0. 0. 1. 0. 0. 0. 0. 0. 0. 0. 0. 0. 0. 0. 0. 0.]\n",
      "\n",
      "Day : 0\n",
      "Encoded Day : [1. 0. 0. 0. 0. 0. 0.]\n",
      "\n",
      "State : [1, 10, 0]\n",
      "Encoded State : [1. 0. 0. 0. 0. 0. 0. 0. 0. 0. 0. 0. 0. 0. 0. 1. 0. 0. 0. 0. 0. 0. 0. 0.\n",
      " 0. 0. 0. 0. 0. 1. 0. 0. 0. 0. 0. 0.]\n",
      "\n",
      "Total Requests : 1\n",
      "Possible Actions Index : [10, 20]\n",
      "Actions : [(3, 4), (0, 0)]\n",
      "\n",
      "Action Counter : 7\n",
      "Epsilon value : 0\n",
      "Possible Actions Index : [10, 20]\n",
      "z value : 0.122\n",
      "Predicted Possible Q-values : [1595.3892, 1632.0219]\n",
      "Selected Possible Action Index : 1\n",
      "Exploitation Overall Action Index : 20\n",
      "Selected Possible Action Q Value : 1632.0218505859375\n",
      "\n",
      "Current State : [1, 10, 0]\n",
      "Current Action : (0, 0)\n",
      "\n",
      "Per Hour Revenue : 9\n",
      "Per Hour Cost : 5\n",
      "\n",
      "Total Time Taken : 1\n",
      "Next State : [1, 11, 0]\n",
      "Reward : -5\n",
      "\n",
      "Total time taken is: 24\n",
      "\n",
      "Total trips taken is: 7\n",
      "Total reward is: 69\n"
     ]
    }
   ],
   "source": [
    "test_model(24)"
   ]
  },
  {
   "cell_type": "code",
   "execution_count": 0,
   "metadata": {
    "colab": {},
    "colab_type": "code",
    "id": "wmKQZs5wVqjr"
   },
   "outputs": [],
   "source": []
  }
 ],
 "metadata": {
  "colab": {
   "collapsed_sections": [],
   "machine_shape": "hm",
   "name": "DQN_Agent_Arch1.ipynb",
   "provenance": [],
   "toc_visible": true
  },
  "kernelspec": {
   "display_name": "Python 3",
   "language": "python",
   "name": "python3"
  },
  "language_info": {
   "codemirror_mode": {
    "name": "ipython",
    "version": 3
   },
   "file_extension": ".py",
   "mimetype": "text/x-python",
   "name": "python",
   "nbconvert_exporter": "python",
   "pygments_lexer": "ipython3",
   "version": "3.7.6"
  }
 },
 "nbformat": 4,
 "nbformat_minor": 1
}
